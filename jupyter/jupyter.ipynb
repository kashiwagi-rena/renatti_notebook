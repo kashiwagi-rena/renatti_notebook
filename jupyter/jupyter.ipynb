{
 "cells": [
  {
   "cell_type": "markdown",
   "metadata": {},
   "source": [
    "# Jupyterとは？\n",
    "> Jupyter Notebookはプログラムの作成や共有をすることができるOSS(オープンソースソフトウェア)のwebアプリケーションです。\n",
    "Jupyterプロジェクトが提供するサービスの１つです。\n",
    "\n",
    "参考文献\n",
    "[Jupyter Notebookのインストールと基本的な使い方について](https://qiita.com/ktr_ch/items/f3ddc4d6a9cac9fa2b89)\n",
    "[VSCodeでJupyter Notebookを使ってみた【ゼロからPython勉強してみる】](https://qiita.com/starfieldKt/items/ed7dee5142d9d5c177fd)\n",
    "\n",
    "上記にあるように、ブラウザ上にて、環境構築せずにコードを試せるもの\n",
    "かなり楽ちんで、しかもVSCodeの拡張機能にもあるので、草も生やすことができて大変に良い\n",
    "VSCode上では確認取れなかったが、ブラウザ上ではRubyも実行可能であり共有も可能なので、アルゴリズムの際に使うことをおすすめします。[Ruby実行の公式](https://qiita.com/maru401/items/c9c8c9ae3a9faf502005)\n",
    "マークダウンもできるし、コードも実行できるし最高やんけと思い、こちらのノートに使用します。\n",
    "[公式](https://jupyter.org/)"
   ]
  },
  {
   "cell_type": "code",
   "execution_count": null,
   "metadata": {},
   "outputs": [],
   "source": [
    "# 拡張子\n",
    ".ipynb"
   ]
  },
  {
   "cell_type": "markdown",
   "metadata": {},
   "source": [
    "拡張機能の「jupyter」をインストールして、上の拡張機能をファイルに使用すると作成できます。\n",
    "TSにも使用可能。下記、記事にはVSCodeでの使用法も記載してあります。\n",
    "\n",
    "[Denoで動かすJupyterプロジェクト](https://qiita.com/KokiSakano/items/60c53a1b1b113d3711c2)"
   ]
  }
 ],
 "metadata": {
  "language_info": {
   "name": "python"
  }
 },
 "nbformat": 4,
 "nbformat_minor": 2
}
