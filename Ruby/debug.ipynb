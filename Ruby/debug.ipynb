{
 "cells": [
  {
   "cell_type": "markdown",
   "metadata": {},
   "source": [
    "```\n",
    "docker stop $(docker ps -q)\n",
    "docker compose up db chrome\n",
    "# 別タブで\n",
    "docker compose run -p 3000:3000 web bin/rails s -p 3000 -b 0.0.0.0\n",
    "```\n"
   ]
  },
  {
   "cell_type": "markdown",
   "metadata": {},
   "source": [
    "すると binding.irb が使えるようになるので、該当のコントローラに binding.irb を差し込んで、email や password が正しく送信されているか？などを確認してみると良いと思います。<br>\n",
    "[Rubyのbinding.irbについて](https://zenn.dev/tamicha2330/articles/020fabd19e6caf)"
   ]
  }
 ],
 "metadata": {
  "language_info": {
   "name": "python"
  }
 },
 "nbformat": 4,
 "nbformat_minor": 2
}
