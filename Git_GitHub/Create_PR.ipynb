{
 "cells": [
  {
   "cell_type": "markdown",
   "metadata": {},
   "source": [
    "#　PR\n",
    "## PRとは？\n",
    "GitHubの機能で、「人にコードの記述内容を確認とる際に使用するテキストコミニュケーションツール」です。<br>\n",
    "[pull requests について](https://docs.github.com/ja/pull-requests/collaborating-with-pull-requests/proposing-changes-to-your-work-with-pull-requests/about-pull-requests)<br>\n",
    "<br>\n",
    "上記、URLは公式ですので一読してみて下さい。ただし、難しいと思います。<br>\n",
    "難しいと感じた方は下の記事も読んでみて下さい。\n",
    "[GitHubを使うなら最低限知っておきたい、プルリクエストの送り方とレビュー、マージの基本](https://atmarkit.itmedia.co.jp/ait/articles/1702/27/news022.html)\n",
    "<br>\n",
    "<br>\n",
    "## PRの作り方\n",
    "ここからは、コードや概念の理解も必要になります。<br>\n",
    "もしわからない場合は、本を買う または、ググってみて下さい。<br>\n",
    "(AIは使わなくてもわかる記事がいっぱいあります。<br>\n",
    "今後、GitHub等のコマンドを調べる際に、自分に合った記事を早めに探しておいてほしいため、極力AIを使用せずに、本またはググる癖をつけて下さい。\n",
    "私を捕まえたり、技術面談で確認するのもありです。何も調べなくても、コマンドを理解して、打てる状況に持っていきましょう！)\n",
    "<br>\n",
    "<br>\n",
    "- まずは、branchを作成します。PRは、１つのbranchに対して、1つ作成可能です。PRを作成することになったら、実装する前にbranchを作成します。<br>"
   ]
  },
  {
   "cell_type": "code",
   "execution_count": null,
   "metadata": {},
   "outputs": [],
   "source": [
    "# branchの作成\n",
    "% git checkout -b feature/btanch名\n",
    "\n",
    "# branchの確認(出力値に作成したbranchがあればOK)\n",
    "% git branch"
   ]
  },
  {
   "cell_type": "markdown",
   "metadata": {},
   "source": [
    "- 作成したbranchで、実装します。<br>\n",
    "<br>\n",
    "- ステージングに変更点を上げます。<br>\n",
    "> ステージングとは、ステージング（Staging）は、Gitを使用してコミットする前に、変更したファイルを選択して準備する作業のことを指します。ステージングを行うことで、コミットに含める変更を明示的に指定できます。コミットしたくない内容はステージングせず、コミットしたい内容のみステージングするようにしましょう。<br>\n",
    "[コマンドラインでステージングする方法](https://zenn.dev/hiropoko/articles/ca170d100850fa)<br>\n"
   ]
  },
  {
   "cell_type": "code",
   "execution_count": null,
   "metadata": {},
   "outputs": [],
   "source": [
    "# ステージングに上げる\n",
    "% git add ステージングに上げたいファイル名\n",
    "\n",
    "# 余談　全ての変更ファイルをステージングに上げる方法\n",
    "% git add .\n",
    "\n",
    "# ステージングに上げられたか確認\n",
    "% git status"
   ]
  },
  {
   "cell_type": "markdown",
   "metadata": {},
   "source": [
    "- コミットします。\n",
    "> ローカルリポジトリに変更を記録する操作で、作業ディレクトリで行った変更をステージングエリアに移し、その後コミットという形で保存します。自分の作業履歴を記録し、以前の状態に戻すことが可能なメリットがありますが、適切なコミットメッセージがないと何を変更したかがわかりにくくなるデメリットもあります。<br>\n",
    "[Gitのコミットとプッシュの違いをわかりやすく解説](https://trends.codecamp.jp/blogs/media/difference-word148)<br>\n",
    "注意：上記に書いてあるように、どんな実装を行ったのか、コミットメッセージに記載して下さい。<br>"
   ]
  },
  {
   "cell_type": "code",
   "execution_count": null,
   "metadata": {},
   "outputs": [],
   "source": [
    "# コミット\n",
    "% git commit -m \"実装内容をここに記載(コミットメッセージ)\""
   ]
  },
  {
   "cell_type": "markdown",
   "metadata": {},
   "source": [
    "- プッシュします。<br>\n",
    "> ローカルリポジトリの変更をリモートリポジトリに反映させる操作です。チームでの共同作業が行えるようになり、データのバックアップも行えるため、この点がプッシュのメリットと言えるでしょう。しかし、未完成のコードをプッシュしてしまうと、他のメンバーに影響を及ぼす可能性があるので注意が必要です。<br>\n",
    "\n",
    "注意：ブッシュすると、戻すの面倒なので、ちゃんとステージングに上げる際やここでファイル間違っていないか、上げてはダメなファイルは含まれていないか確認をとって下さい。<br>"
   ]
  },
  {
   "cell_type": "code",
   "execution_count": null,
   "metadata": {},
   "outputs": [],
   "source": [
    "# プッシュ\n",
    "% git push\n",
    "\n",
    "% git push origin feature/btanch名(作業したbranch名)"
   ]
  },
  {
   "cell_type": "markdown",
   "metadata": {},
   "source": [
    "上記で、準備は整いました！<br>\n",
    "GitHubに行きPRを作成して下さい。<br>\n",
    "公式<br>\n",
    "[pull request の作成](https://docs.github.com/ja/pull-requests/collaborating-with-pull-requests/proposing-changes-to-your-work-with-pull-requests/creating-a-pull-request)"
   ]
  }
 ],
 "metadata": {
  "language_info": {
   "name": "python"
  }
 },
 "nbformat": 4,
 "nbformat_minor": 2
}
